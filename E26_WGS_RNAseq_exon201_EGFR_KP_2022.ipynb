{
 "cells": [
  {
   "cell_type": "code",
   "execution_count": 22,
   "id": "e6f1f271",
   "metadata": {},
   "outputs": [],
   "source": [
    "import numpy as np\n",
    "import csv\n",
    "import pandas as pd\n",
    "import matplotlib.pyplot as plt\n",
    "import seaborn as sns\n",
    "import os\n",
    "import glob\n",
    "from pybedtools import BedTool\n",
    "import bioframe as bf"
   ]
  },
  {
   "cell_type": "code",
   "execution_count": 23,
   "id": "9f587f9e",
   "metadata": {},
   "outputs": [],
   "source": [
    "#open wgs peaks annotated to EGFR exon regions and rename headers\n",
    "wgs_peaks_AA = pd.read_table('path.txt', header=None, skiprows=1)\n",
    "wgs_peaks_columns_new = ['PeakID', 'chrom', 'start', 'end', 'strand', 'peak score', 'focusratio', 'annotation', 'detailed annot', 'distTSS', 'gap', 'gap', 'gap', 'Nearest ReqSeq', 'Nearest Ensembl', 'Gene', 'Gene Alias', 'Gene Descrp', 'Gene Type', 'E26_CL']\n",
    "wgs_peaks_AA.rename(columns=dict(zip(wgs_peaks_AA.columns, wgs_peaks_columns_new)), inplace=True)\n",
    "\n",
    "#open RNA peaks annotated to EGFR exons, rename the headers and add a row for exon size\n",
    "rna_egfr_exons = pd.read_table('path.txt', header=None, skiprows=1) \n",
    "rna_egfr_exons_new = ['PeakID', 'chrom', 'start', 'end', 'strand', 'peak score', 'focusratio', 'annotation', 'detailed annot', 'distTSS', 'gap', 'gap', 'gap', 'Nearest ReqSeq', 'Nearest Ensembl', 'Gene', 'Gene Alias', 'Gene Descrp', 'Gene Type', 'E26_exon', 'E28_exon']\n",
    "rna_egfr_exons.rename(columns=dict(zip(rna_egfr_exons.columns, rna_egfr_exons_new)), inplace=True)\n",
    "rna_egfr_exons['exon_size']=rna_egfr_exons['end']-rna_egfr_exons['start']"
   ]
  },
  {
   "cell_type": "code",
   "execution_count": 24,
   "id": "67a5586a",
   "metadata": {},
   "outputs": [],
   "source": [
    "#wgs_peaks_AA['E26_CN_block']=wgs_peaks_AA['E26_CL']/wgs_peaks_AA['E26_B']\n",
    "wgs_peaks_AA['region_size']=wgs_peaks_AA['end']-wgs_peaks_AA['start']\n",
    "wgs_peaks_AA['counts_per_region']=wgs_peaks_AA['E26_CL']"
   ]
  },
  {
   "cell_type": "code",
   "execution_count": 25,
   "id": "134de7a9",
   "metadata": {},
   "outputs": [],
   "source": [
    "#annotate whether wgs_peaks_AA is chrom or ecDNA\n",
    "block_number = pd.Series(['1','2','3','4','5','6','7','8','9','10','11','12','13','14','15','16','17','18','19','20','21','22','23','24','25','26','27','28'], index=[0,1,2,3,4,5,6,7,8,9,10,11,12,13,14,15,16,17,18,19,20,21,22,23,24,25,26,27])\n",
    "wgs_peaks_AA_sort = wgs_peaks_AA.sort_values(['start']).reset_index(drop=True)\n",
    "wgs_peaks_AA_sort_set = wgs_peaks_AA_sort[['chrom', 'start','end']]\n",
    "#wgs_peaks_AA_sort"
   ]
  },
  {
   "cell_type": "code",
   "execution_count": 26,
   "id": "7a8cb2c2",
   "metadata": {},
   "outputs": [],
   "source": [
    "#naming blocks as either chromosomal or ecDNA in a cell line with AA-predicted EGFR exon 2-7 deletion in ecDNA\n",
    "wgs_peaks_AA_sort['block_number'] = block_number.values\n",
    "wgs_peaks_AA_sort['block_type']='ecDNA'\n",
    "blocks_chrom=['2','3','4','5','6','7']\n",
    "wgs_peaks_AA_sort.loc[wgs_peaks_AA_sort['block_number'].isin(blocks_chrom), 'block_type']='chrom'"
   ]
  },
  {
   "cell_type": "code",
   "execution_count": 27,
   "id": "324cd765",
   "metadata": {},
   "outputs": [],
   "source": [
    "#calculate copy number per AA block and abbreviate the columns\n",
    "wgs_peaks_AA_blocks = wgs_peaks_AA_sort[['chrom','start','end','E26_CL','counts_per_region','block_number','block_type', 'region_size']]"
   ]
  },
  {
   "cell_type": "code",
   "execution_count": 28,
   "id": "4c7bbaa0",
   "metadata": {},
   "outputs": [],
   "source": [
    "#merge wgs_peaks_AA_blocks with rna_egfr_exons to combine WGS and RNA-seq data\n",
    "combined_overlap = bf.overlap(wgs_peaks_AA_blocks, rna_egfr_exons, how='right', suffixes=('_1', '_2'))\n",
    "combined_overlap_brief = combined_overlap[['counts_per_region_1', 'block_number_1','block_type_1', 'E26_exon_2', 'start_2', 'end_2','exon_size_2']]\n",
    "#combined_overlap_brief"
   ]
  },
  {
   "cell_type": "code",
   "execution_count": 18,
   "id": "3cb91a0e",
   "metadata": {
    "scrolled": true
   },
   "outputs": [
    {
     "name": "stderr",
     "output_type": "stream",
     "text": [
      "<ipython-input-18-b31f78a93d19>:2: SettingWithCopyWarning: \n",
      "A value is trying to be set on a copy of a slice from a DataFrame.\n",
      "Try using .loc[row_indexer,col_indexer] = value instead\n",
      "\n",
      "See the caveats in the documentation: https://pandas.pydata.org/pandas-docs/stable/user_guide/indexing.html#returning-a-view-versus-a-copy\n",
      "  combined_overlap_brief['RNA_DNA_ratio']=combined_overlap_brief.loc[:,'E26_exon_2']/combined_overlap_brief.loc[:,'counts_per_region_1']\n"
     ]
    }
   ],
   "source": [
    "#calculate the RNA:DNA ratio for each EGFR exon (RNA/WGS)\n",
    "combined_overlap_brief['RNA_DNA_ratio']=combined_overlap_brief.loc[:,'E26_exon_2']/combined_overlap_brief.loc[:,'counts_per_region_1']\n",
    "#combined_overlap_brief"
   ]
  },
  {
   "cell_type": "code",
   "execution_count": 20,
   "id": "c88ab5bf",
   "metadata": {},
   "outputs": [],
   "source": [
    "#To save output to csv\n",
    "combined_overlap_brief.to_csv('Annotated_peaks_AA_exons201_WGS_RNA_only.csv')"
   ]
  },
  {
   "cell_type": "code",
   "execution_count": 21,
   "id": "26f16c6e",
   "metadata": {},
   "outputs": [
    {
     "data": {
      "image/png": "[encoded data removed]",
      "text/plain": [
       "<Figure size 360x360 with 1 Axes>"
      ]
     },
     "metadata": {
      "needs_background": "light"
     },
     "output_type": "display_data"
    }
   ],
   "source": [
    "#in-python graphical representation of result\n",
    "g = sns.catplot(data=combined_overlap_brief, x='block_type_1', y='RNA_DNA_ratio', kind = 'swarm', palette ='colorblind')\n",
    "#g.savefig('E26_merged_exons_only.png', dpi=300)"
   ]
  }
 ],
 "metadata": {
  "kernelspec": {
   "display_name": "Python 3",
   "language": "python",
   "name": "python3"
  },
  "language_info": {
   "codemirror_mode": {
    "name": "ipython",
    "version": 3
   },
   "file_extension": ".py",
   "mimetype": "text/x-python",
   "name": "python",
   "nbconvert_exporter": "python",
   "pygments_lexer": "ipython3",
   "version": "3.8.8"
  }
 },
 "nbformat": 4,
 "nbformat_minor": 5
}
